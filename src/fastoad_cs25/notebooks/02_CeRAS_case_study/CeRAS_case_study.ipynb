{
 "cells": [
  {
   "cell_type": "markdown",
   "id": "juvenile-language",
   "metadata": {},
   "source": [
    "<div class=\"row\">\n",
    "  <div class=\"column\">\n",
    "    <img src=\"./img/logo-onera.png\" width=\"200\">\n",
    "  </div>\n",
    "  <div class=\"column\">\n",
    "    <img src=\"./img/logo-ISAE_SUPAERO.png\" width=\"200\">\n",
    "  </div>\n",
    "</div>"
   ]
  },
  {
   "cell_type": "markdown",
   "id": "saved-joseph",
   "metadata": {},
   "source": [
    "# CeRAS Case Study"
   ]
  },
  {
   "cell_type": "markdown",
   "id": "approximate-montreal",
   "metadata": {},
   "source": [
    "This tutorial aims to retrieve CeRAS report results through a step by step approach. More information about the CeRAS reference aircraft configuration can be found [here](https://ceras.ilr.rwth-aachen.de/tiki/tiki-index.php?page=CSR-01&structure=CeRAS). The objective is to retrieve the reference aircraft geometry and weights. \n",
    "\n",
    "Particularly, the Maximum Take-Off Weight (MTOW) target is 77000kg and the targetted Operational Weight Empty (OWE) is 42100kg.  "
   ]
  },
  {
   "cell_type": "markdown",
   "id": "hired-watch",
   "metadata": {},
   "source": [
    "***\n",
    "***\n",
    "## Imports\n"
   ]
  },
  {
   "cell_type": "code",
   "execution_count": null,
   "id": "lonely-barrier",
   "metadata": {},
   "outputs": [],
   "source": [
    "import os.path as pth\n",
    "import sys\n",
    "import logging\n",
    "\n",
    "import fastoad.api as oad\n",
    "\n",
    "sys.path.append(pth.abspath(\".\"))\n",
    "from ceras_utils import plot_mission_against_ceras"
   ]
  },
  {
   "cell_type": "markdown",
   "id": "conceptual-package",
   "metadata": {},
   "source": [
    "## Working directories and reference files \n",
    "Here you can define your working directory and data storage folder as well as reference files names. "
   ]
  },
  {
   "cell_type": "code",
   "execution_count": null,
   "id": "light-baking",
   "metadata": {},
   "outputs": [],
   "source": [
    "logging.basicConfig(level=logging.INFO, format=\"%(levelname)-8s: %(message)s\")\n",
    "\n",
    "DATA_FOLDER_PATH = \"data\"\n",
    "\n",
    "WORK_FOLDER_PATH = \"workdir\"\n",
    "\n",
    "SOURCE_FILE = pth.join(DATA_FOLDER_PATH, \"CeRAS_reference_data.xml\")\n",
    "\n",
    "REFERENCE_FILE_FOR_PLOT = pth.join(DATA_FOLDER_PATH, \"CeRAS_data_for_plots.xml\")\n",
    "\n",
    "CERAS_REFERENCE_RESULTS_FILE = pth.join(\n",
    "    DATA_FOLDER_PATH, \"CSR-01_missionDesign_R4630_PL17000_out.csv\"\n",
    ")\n",
    "\n",
    "CERAS_SPP_DESIGN_REFERENCE_RESULTS_FILE = pth.join(\n",
    "    DATA_FOLDER_PATH, \"CSR-01_missionStudy_R5093_PL13608_out.csv\"\n",
    ")\n",
    "\n",
    "CERAS_SPP_STUDY_REFERENCE_RESULTS_FILE = pth.join(\n",
    "    DATA_FOLDER_PATH, \"CSR-01_missionStudy_R926_PL13608_out.csv\"\n",
    ")"
   ]
  },
  {
   "cell_type": "markdown",
   "id": "equal-gather",
   "metadata": {},
   "source": [
    "## 1. OAD Process\n",
    "For the first part of the exercice you will see how to retrieve CeRAS reference aircraft results from using the OAD process. \n",
    "\n",
    "The reference mission characteristics used for the sizing correspond to the *\"MTOW mission\"* defined in the CeRAS report whose specifications are reminded below: \n",
    "\n",
    "* Range = 2500NM\n",
    "* Diversion range = 200NM\n",
    "* Payload = 17000kg\n",
    "* Taxi in = 5min \n",
    "* Taxi out = 9min \n",
    "* Cruise Mach = 0.78\n",
    "\n",
    "### 1.1. The mission file\n",
    "\n",
    "You will use the mission module to compute the fuel consumption over a specified mission. Therefore, you need to define the different phases your mission is composed of. That operation is done through the YAML [mission file](./data/CeRAS_missions.yml). If you have a closer look to this file, you will notice that it starts with a definition of the different flight phases (initial climb, climb, descent, holding, taxi) for which one or several flight parameter(s) is (are) varying.\n",
    "\n",
    "For exemple, for the initial climb phase, the first segment is performed at iso-speed with a variation of altitude up to 400ft, then a second segment defines an acceleration at iso-altitude up to 250kt and a third segment at iso-speed and targetting an altitude of 15000ft completes this phase.\n",
    "\n",
    "Each phases are then organised and completed with a cruise phase to form a route. Several routes can then be combined to form a mission profile. \n",
    "\n",
    "Each mission profile should have a unique name.\n",
    "\n",
    "For further information about the mission definition, please see the [official documentation](https://fast-oad.readthedocs.io/en/documentation/mission_module/index.html).\n",
    "\n",
    "### 1.2. The configuration file\n",
    "\n",
    "As already mentioned, the [configuration file](./data/oad_sizing.yml) you are using enables you run the full OAD sizing process. Here a particular attention is paid on the performance module definition. \n",
    "\n",
    "First, in this section, you will call the [mission file](./data/CeRAS_missions.yml) you want to use through the `mission_file_path` option. You will then indicate which mission profile to select accordingly to the naming convention you chose in the mission file. This is done using the `mission_name` option. In the present situation you will compute performances for the mission called `MTOW_mission`. \n",
    "\n",
    "Note also that the option `is_sizing` of the performance group is active. That means that the mission TOW computed by the performance module is considered as the design Maximum Take-Off Weight and will impact the aircraft design. \n",
    "\n",
    "You can also notice that the option `add_solver` is deactivated as solvers are already defined for the whole problem in the [configuration file](./data/oad_sizing.yml)."
   ]
  },
  {
   "cell_type": "code",
   "execution_count": null,
   "id": "current-tenant",
   "metadata": {},
   "outputs": [],
   "source": [
    "OAD_CONFIGURATION_FILE = pth.join(DATA_FOLDER_PATH, \"oad_sizing.yml\")"
   ]
  },
  {
   "cell_type": "markdown",
   "id": "falling-designation",
   "metadata": {},
   "source": [
    "### 1.3. The input file\n",
    "You can now generate the input file and check the correctness of the TLARs and mission settings with respect to the reference mission specifications.\n",
    "\n",
    "Particularly you should pay attention to the following inputs:\n",
    "\n",
    "* `data:mission:MTOW_mission:main_route:range` = 2500NM\n",
    "* `data:mission:MTOW_mission:diversion:distance` = 200NM\n",
    "* `data:mission:MTOW_mission:taxi_in:duration` = 300s\n",
    "\n",
    "\n",
    "Note that the Taxi out phase is not characterised by a duration like in CeRAS report specification but through a fuel consumption directly. The input `data:mission:MTOW_mission:taxi_out:fuel` should be set to 276kg.\n",
    "\n",
    "Weights should also be checked to be in accordance with the mission specifications: \n",
    "\n",
    "* `data:weight:aircraft:max_payload` = 19608kg\n",
    "* `data:weight:aircraft:payload` = 17000kg\n"
   ]
  },
  {
   "cell_type": "code",
   "execution_count": null,
   "id": "assisted-broadcasting",
   "metadata": {},
   "outputs": [],
   "source": [
    "input_file = oad.generate_inputs(OAD_CONFIGURATION_FILE, SOURCE_FILE, overwrite=True)"
   ]
  },
  {
   "cell_type": "code",
   "execution_count": null,
   "id": "celtic-civilization",
   "metadata": {},
   "outputs": [],
   "source": [
    "oad.variable_viewer(input_file)"
   ]
  },
  {
   "cell_type": "markdown",
   "id": "front-henry",
   "metadata": {},
   "source": [
    "### 1.4. Run the OAD process\n",
    "\n",
    "Now, run the problem and check the output file:"
   ]
  },
  {
   "cell_type": "code",
   "execution_count": null,
   "id": "ordinary-miller",
   "metadata": {
    "scrolled": true,
    "tags": []
   },
   "outputs": [],
   "source": [
    "MTOW_problem = oad.evaluate_problem(OAD_CONFIGURATION_FILE, overwrite=True)"
   ]
  },
  {
   "cell_type": "markdown",
   "id": "bearing-affiliate",
   "metadata": {},
   "source": [
    "### 1.5. Results Analysis\n",
    "\n",
    "You can now print the output file and compare the results with the CeRAS report ones."
   ]
  },
  {
   "cell_type": "code",
   "execution_count": null,
   "id": "identical-ultimate",
   "metadata": {},
   "outputs": [],
   "source": [
    "oad.variable_viewer(MTOW_problem.output_file_path)"
   ]
  },
  {
   "cell_type": "markdown",
   "id": "representative-macedonia",
   "metadata": {},
   "source": [
    "Particularly, the Maximum Take Off Weight (MTOW) of CeRAS report is 77000kg. Here you should find 77006kg for the `data:mission:MTOW_mission:TOW` and for `data:weight:aircraft:MTOW`. In the same way, the reference mission fuel is 18183kg, you should have 18368kg for `data:mission:MTOW_mission:block_fuel`.\n",
    "\n",
    "The Operating Empty Weight (OWE) is also assessed as `data:weight:aircraft:MTOW` and estimated to 42000kg, where the reference value is 42082kg.\n",
    "\n",
    "A more practical way is to use the visualisation tools that were presented in a previous tutorial to plot the mass breakdown and the aircraft geometry and compare them with the CeRAS reference aircraft data. "
   ]
  },
  {
   "cell_type": "code",
   "execution_count": null,
   "id": "actual-grounds",
   "metadata": {},
   "outputs": [],
   "source": [
    "oad.mass_breakdown_sun_plot(MTOW_problem.output_file_path)"
   ]
  },
  {
   "cell_type": "code",
   "execution_count": null,
   "id": "overhead-brazil",
   "metadata": {},
   "outputs": [],
   "source": [
    "fig = oad.mass_breakdown_bar_plot(MTOW_problem.output_file_path, name=\"FAST-OAD\")\n",
    "fig = oad.mass_breakdown_bar_plot(REFERENCE_FILE_FOR_PLOT, name=\"CeRAS Report\", fig=fig)\n",
    "fig.show()"
   ]
  },
  {
   "cell_type": "markdown",
   "id": "ordered-baghdad",
   "metadata": {},
   "source": [
    "**Remark:** Difference are observed between *crew*, *systems* and *operational* weight categories. That comes from the different mass breakdown strategies between FAST-OAD and CeRAS team. For example, the CeRAS team included crew weight within the *operational* weights while FAST-OAD has a dedicated category. On the contrary the *operational* category does not exist in FAST-OAD and his contents are integrated within the *systems* weights. For more details about the mass breakdown strategy and the content of each category:\n",
    "* FAST-OAD strategy: please refer to the sunburst plot here above where the detail of each category and the associated weights are plotted\n",
    "* CeRAS strategy: please refer to CeRAS web page [here](https://ceras.ilr.rwth-aachen.de/trac/wiki/CeRAS/Definitions/MassBreakdownDefinition)"
   ]
  },
  {
   "cell_type": "code",
   "execution_count": null,
   "id": "seeing-likelihood",
   "metadata": {},
   "outputs": [],
   "source": [
    "fig = oad.wing_geometry_plot(MTOW_problem.output_file_path, name=\"FAST-OAD\")\n",
    "fig = oad.wing_geometry_plot(REFERENCE_FILE_FOR_PLOT, name=\"CeRAS Report\", fig=fig)\n",
    "fig.show()"
   ]
  },
  {
   "cell_type": "code",
   "execution_count": null,
   "id": "hundred-vinyl",
   "metadata": {},
   "outputs": [],
   "source": [
    "oad.aircraft_geometry_plot(MTOW_problem.output_file_path)"
   ]
  },
  {
   "cell_type": "markdown",
   "id": "digital-grant",
   "metadata": {},
   "source": [
    "You can also plot the mission profile and fuel consumption history to compare with CeRAS ones: "
   ]
  },
  {
   "cell_type": "code",
   "execution_count": null,
   "id": "uniform-oracle",
   "metadata": {},
   "outputs": [],
   "source": [
    "plot_mission_against_ceras(\n",
    "    pth.join(WORK_FOLDER_PATH, \"oad_sizing.csv\"), CERAS_REFERENCE_RESULTS_FILE\n",
    ")"
   ]
  },
  {
   "cell_type": "markdown",
   "id": "cleared-cholesterol",
   "metadata": {},
   "source": [
    "***\n",
    "***\n",
    "\n",
    "## 2. Operational Missions\n",
    "Starting from your CeRAS design you will now discover how to run missions analyses for the two operational mission defined in the CeRAS report. \n",
    "\n",
    "The first mission is the Standard Passenger Payload desing mission whose characteristics are: \n",
    "\n",
    "- Range = 2750NM\n",
    "- Diversion range = 200NM\n",
    "- Payload = 13608kg\n",
    "\n",
    "The second mission is the Standard Passenger Payload study mission whose characteristics are: \n",
    "\n",
    "- Range = 500NM\n",
    "- Diversion range = 200NM\n",
    "- Payload = 13608kg\n",
    "\n",
    "For those two missions the objective is to retrieve the fuel weight and consequently the take-off weight found in the CeRAS report.  \n",
    "\n",
    "The two missions profiles are described in the same [mission file](./data/operational_missions.yml). They are composed of a main route and a diversion. Only the range of the flight will be different and change in the input file. \n"
   ]
  },
  {
   "cell_type": "markdown",
   "id": "temporal-filling",
   "metadata": {},
   "source": [
    "### 2.1. Updating the configuration file \n",
    "Once you create an adapted mission file you should generate or retrieve a configuration file that would allow for a mission analysis to be run. Let's have a look to such a [file](./data/operational_missions.yml): "
   ]
  },
  {
   "cell_type": "code",
   "execution_count": null,
   "id": "japanese-keeping",
   "metadata": {},
   "outputs": [],
   "source": [
    "CONFIGURATION_FILE = pth.join(DATA_FOLDER_PATH, \"operational_missions.yml\")"
   ]
  },
  {
   "cell_type": "markdown",
   "id": "facial-immigration",
   "metadata": {},
   "source": [
    "The [configuration file](./data/operational_missions.yml) shows that high-speed aerodynamics subgroup and performances modules are called. The low-speed polar is already available in the [reference data](./data/CeRAS_reference_data.xml) file and you need high-speed aerodynamics subgroup to compute cruise one.\n",
    "\n",
    "**Important note:** Notice that the two missions are run successively through two performance group definition: the first one is `model.SPP_design` the second one `model.SPP_study`. Of course, you can separate the two analyses in two different configuration files. \n",
    "\n",
    "The option `adjust_fuel` that is set to **True** indicates that fuel weight is adjusted to the need of the mission. The take-off weight will be the results of an iterative procedure and is computed as follow: \n",
    "\n",
    "$ TOW = OWE + PL + BF - F_{taxi-out} - F_{TO\\ run} $ with $OWE$ from the OAD sizing results, $BF$ being the block (loaded) fuel, $F_{taxi-out}$ and $F_{TO\\ run}$ being respectively the consumed fuel during taxi-out and takeoff run phases. \n",
    "\n",
    "You need to set the option `add_solver` to **True** to allow for the iterative process to take place if no solvers are defined in the configuration file. \n",
    "\n",
    "Note again that the `mission_name` option must correspond to a mission described in the [mission file](./data/CeRAS_missions.yml).  \n",
    "\n",
    "### 2.2. The input file\n",
    "\n",
    "As indicated in the introduction of this part, you will start from the results of the OAD sizing process you have just run to compute the operational missions take-off weight and fuel consumption. \n",
    "\n",
    "To do so, you just have to use the XML [output file](./data/oad_sizing_out.xml) from the OAD process as the source file to generate the new input file: "
   ]
  },
  {
   "cell_type": "code",
   "execution_count": null,
   "id": "spoken-poster",
   "metadata": {},
   "outputs": [],
   "source": [
    "SOURCE_FILE = pth.join(DATA_FOLDER_PATH, \"oad_sizing_out.xml\")\n",
    "input_file = oad.generate_inputs(CONFIGURATION_FILE, SOURCE_FILE, overwrite=True)"
   ]
  },
  {
   "cell_type": "markdown",
   "id": "unique-label",
   "metadata": {},
   "source": [
    "**Important note:** You should check carefully the mission inputs to be sure they are consistent with the mission specifications and that no \"nan\" values are present. Indeed, the file we provided as `SOURCE_FILE` results from the same OAD process you have just run but we added the correct mission specifications to enable you to run the computation directly without having to input the correct values. However, if you choose to use directly the results from your OAD run calling `problem.output_file_path` as source file in `generate_inputs` arguments you *will have* to update the values for the mission specifications one by one.  "
   ]
  },
  {
   "cell_type": "code",
   "execution_count": null,
   "id": "asian-printing",
   "metadata": {},
   "outputs": [],
   "source": [
    "oad.variable_viewer(input_file)"
   ]
  },
  {
   "cell_type": "markdown",
   "id": "metric-equipment",
   "metadata": {},
   "source": [
    "### 2.3. Operational Missions Runs\n",
    "\n",
    "You can now run the missions analyses:"
   ]
  },
  {
   "cell_type": "code",
   "execution_count": null,
   "id": "piano-conspiracy",
   "metadata": {
    "scrolled": true,
    "tags": []
   },
   "outputs": [],
   "source": [
    "SPP_problem = oad.evaluate_problem(CONFIGURATION_FILE, overwrite=True)"
   ]
  },
  {
   "cell_type": "markdown",
   "id": "biological-somerset",
   "metadata": {},
   "source": [
    "The XML [output file](./workdir/operational_missions_out.xml) can be displayed in a table format using `variable_viewer`function. And you can compare the fuel consumptions and TOW with the expected values from CeRAS report for the two missions. "
   ]
  },
  {
   "cell_type": "code",
   "execution_count": null,
   "id": "bec6b163-3357-438b-8959-386306c76724",
   "metadata": {},
   "outputs": [],
   "source": [
    "oad.variable_viewer(SPP_problem.output_file_path)"
   ]
  },
  {
   "cell_type": "code",
   "execution_count": null,
   "id": "b34b663e-e54e-4764-8292-ca43d32c9781",
   "metadata": {},
   "outputs": [],
   "source": [
    "print(\n",
    "    \"Mission fuel SPP Design: \",\n",
    "    SPP_problem[\"data:mission:SPP_design:needed_block_fuel\"],\n",
    "    \"kg --\",\n",
    "    \"Expected value: 18678kg\",\n",
    ")\n",
    "print(\n",
    "    \"Mission fuel SPP Study: \",\n",
    "    SPP_problem[\"data:mission:SPP_study:needed_block_fuel\"],\n",
    "    \"kg --\",\n",
    "    \"Expected value: 6665kg\",\n",
    ")\n",
    "\n",
    "print(\n",
    "    \"TOW SPP Design: \",\n",
    "    SPP_problem[\"data:mission:SPP_design:TOW\"],\n",
    "    \"kg --\",\n",
    "    \"Expected value: 74102kg\",\n",
    ")\n",
    "print(\n",
    "    \"TOW SPP Study: \", SPP_problem[\"data:mission:SPP_study:TOW\"], \"kg --\", \"Expected value: 62089kg\"\n",
    ")"
   ]
  },
  {
   "cell_type": "markdown",
   "id": "crazy-adjustment",
   "metadata": {},
   "source": [
    "And you can compare the mission profile and fuel consumption history with CeRAS data. "
   ]
  },
  {
   "cell_type": "code",
   "execution_count": null,
   "id": "coated-renaissance",
   "metadata": {},
   "outputs": [],
   "source": [
    "plot_mission_against_ceras(\n",
    "    pth.join(WORK_FOLDER_PATH, \"SPP_design.csv\"), CERAS_SPP_DESIGN_REFERENCE_RESULTS_FILE\n",
    ")"
   ]
  },
  {
   "cell_type": "code",
   "execution_count": null,
   "id": "beginning-information",
   "metadata": {},
   "outputs": [],
   "source": [
    "plot_mission_against_ceras(\n",
    "    pth.join(WORK_FOLDER_PATH, \"SPP_study.csv\"), CERAS_SPP_STUDY_REFERENCE_RESULTS_FILE\n",
    ")"
   ]
  },
  {
   "cell_type": "code",
   "execution_count": null,
   "id": "nuclear-korean",
   "metadata": {},
   "outputs": [],
   "source": []
  }
 ],
 "metadata": {
  "kernelspec": {
   "display_name": "Python 3 (ipykernel)",
   "language": "python",
   "name": "python3"
  },
  "language_info": {
   "codemirror_mode": {
    "name": "ipython",
    "version": 3
   },
   "file_extension": ".py",
   "mimetype": "text/x-python",
   "name": "python",
   "nbconvert_exporter": "python",
   "pygments_lexer": "ipython3",
   "version": "3.11.4"
  }
 },
 "nbformat": 4,
 "nbformat_minor": 5
}
